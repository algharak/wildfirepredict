{
 "cells": [
  {
   "cell_type": "code",
   "execution_count": 1,
   "outputs": [
    {
     "name": "stdout",
     "output_type": "stream",
     "text": [
      "i am alive\n"
     ]
    }
   ],
   "source": [
    "print (\"i am alive\")"
   ],
   "metadata": {
    "collapsed": false,
    "pycharm": {
     "name": "#%%\n"
    }
   }
  },
  {
   "cell_type": "code",
   "execution_count": 14,
   "metadata": {
    "collapsed": true,
    "pycharm": {
     "name": "#%%\n"
    }
   },
   "outputs": [],
   "source": [
    "from __future__ import print_function\n",
    "import datetime as dt\n",
    "import meteomatics.api as api\n",
    "import pandas as pd\n"
   ]
  },
  {
   "cell_type": "code",
   "execution_count": 6,
   "outputs": [],
   "source": [
    "###Credentials:\n",
    "username = 'python-community'\n",
    "password = 'Umivipawe179'"
   ],
   "metadata": {
    "collapsed": false,
    "pycharm": {
     "name": "#%%\n"
    }
   }
  },
  {
   "cell_type": "code",
   "execution_count": 7,
   "outputs": [],
   "source": [
    "startdate_l = dt.datetime.utcnow() - dt.timedelta(days=1)\n",
    "enddate_l = dt.datetime.utcnow() - dt.timedelta(minutes=5)"
   ],
   "metadata": {
    "collapsed": false,
    "pycharm": {
     "name": "#%%\n"
    }
   }
  },
  {
   "cell_type": "code",
   "execution_count": 8,
   "outputs": [],
   "source": [
    "lat_N_l = 90\n",
    "lon_W_l = -180\n",
    "lat_S_l = -90\n",
    "lon_E_l = 180"
   ],
   "metadata": {
    "collapsed": false,
    "pycharm": {
     "name": "#%%\n"
    }
   }
  },
  {
   "cell_type": "code",
   "execution_count": null,
   "outputs": [],
   "source": [
    "print(\"lightning strikes:\")\n",
    "try:\n",
    "    df_lightning = api.query_lightnings(startdate_l, enddate_l, lat_N_l, lon_W_l, lat_S_l, lon_E_l, username,\n",
    "                                        password)\n",
    "    print(df_lightning.head())\n",
    "except Exception as e:\n",
    "    print(\"Failed, the exception is {}\".format(e))"
   ],
   "metadata": {
    "collapsed": false,
    "pycharm": {
     "name": "#%%\n",
     "is_executing": true
    }
   }
  },
  {
   "cell_type": "code",
   "execution_count": 12,
   "outputs": [
    {
     "data": {
      "text/plain": "<bound method DataFrame.info of                                              stroke_current:kA\nvaliddate                 lat      lon                        \n2022-10-30 00:46:52+00:00  10.1671 -45.1860               -999\n                           32.2796  25.6966               -999\n                          -10.6581  18.9978               -999\n2022-10-30 00:46:56+00:00 -12.9611 -56.0834               -999\n2022-10-30 00:47:01+00:00  30.6326  19.0371               -999\n...                                                        ...\n2022-10-31 00:41:47+00:00  32.7856  22.5314               -999\n2022-10-31 00:41:50+00:00  7.0138  -63.9257               -999\n2022-10-31 00:41:51+00:00  12.0306  64.8586               -999\n2022-10-31 00:41:52+00:00 -1.7157  -78.3240               -999\n                          -2.0903  -78.6306               -999\n\n[64798 rows x 1 columns]>"
     },
     "execution_count": 12,
     "metadata": {},
     "output_type": "execute_result"
    }
   ],
   "source": [
    "df_lightning.info"
   ],
   "metadata": {
    "collapsed": false,
    "pycharm": {
     "name": "#%%\n"
    }
   }
  },
  {
   "cell_type": "code",
   "execution_count": null,
   "outputs": [],
   "source": [
    "maximum_stroke = df_lightning['stroke_current:kA'].max()\n",
    "minimum_stroke = df_lightning['stroke_current:kA'].min()\n",
    "mean_stroke = df_lightning['stroke_current:kA'].mean()\n",
    "first_value = df_lightning.iloc[0]['stroke_current:kA']\n",
    "just_after_18UTC = df_lightning[df_lightning.index.get_level_values('validdate').hour >= 18]"
   ],
   "metadata": {
    "collapsed": false,
    "pycharm": {
     "name": "#%%\n"
    }
   }
  },
  {
   "cell_type": "code",
   "execution_count": 15,
   "outputs": [],
   "source": [
    "DATASET_FILE = \"./dataset/combined_new.csv\""
   ],
   "metadata": {
    "collapsed": false,
    "pycharm": {
     "name": "#%%\n"
    }
   }
  },
  {
   "cell_type": "markdown",
   "source": [
    "Import dataset excel CSV file into pandas"
   ],
   "metadata": {
    "collapsed": false,
    "pycharm": {
     "name": "#%% md\n"
    }
   }
  },
  {
   "cell_type": "code",
   "execution_count": null,
   "outputs": [],
   "source": [
    "df_forestfire = pd.read_csv(DATASET_FILE)\n",
    "print(df_forestfire.to_string())"
   ],
   "metadata": {
    "collapsed": false,
    "pycharm": {
     "name": "#%%\n",
     "is_executing": true
    }
   }
  },
  {
   "cell_type": "markdown",
   "source": [
    "Analyze the dataframe"
   ],
   "metadata": {
    "collapsed": false,
    "pycharm": {
     "name": "#%% md\n"
    }
   }
  },
  {
   "cell_type": "code",
   "execution_count": null,
   "outputs": [],
   "source": [
    "#df_forestfire.head()\n",
    "# df_forestfire.dtypes\n",
    "# df_forestfire.columns\n",
    "df_forestfire.describe()"
   ],
   "metadata": {
    "collapsed": false,
    "pycharm": {
     "name": "#%%\n",
     "is_executing": true
    }
   }
  },
  {
   "cell_type": "code",
   "execution_count": 26,
   "outputs": [
    {
     "name": "stdout",
     "output_type": "stream",
     "text": [
      "(10988, 18)\n"
     ]
    }
   ],
   "source": [
    "print (df_forestfire.shape)\n"
   ],
   "metadata": {
    "collapsed": false,
    "pycharm": {
     "name": "#%%\n"
    }
   }
  }
 ],
 "metadata": {
  "kernelspec": {
   "display_name": "Python 3",
   "language": "python",
   "name": "python3"
  },
  "language_info": {
   "codemirror_mode": {
    "name": "ipython",
    "version": 2
   },
   "file_extension": ".py",
   "mimetype": "text/x-python",
   "name": "python",
   "nbconvert_exporter": "python",
   "pygments_lexer": "ipython2",
   "version": "2.7.6"
  }
 },
 "nbformat": 4,
 "nbformat_minor": 0
}